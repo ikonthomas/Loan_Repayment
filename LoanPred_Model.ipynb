
{
  "nbformat": 4,
  "nbformat_minor": 0,
  "metadata": {
    "colab": {
      "name": "LoanPred_Model.ipynb",
      "version": "0.3.2",
      "provenance": [],
      "collapsed_sections": [],
      "include_colab_link": true
    },
    "kernelspec": {
      "name": "python3",
      "display_name": "Python 3"
    }
  },
  "cells": [
    {
      "cell_type": "markdown",
      "metadata": {
        "id": "view-in-github",
        "colab_type": "text"
      },
      "source": [
        "<a href=\"https://colab.research.google.com/github/ikonthomas/Loan_Repayment/blob/master/LoanPred_Model.ipynb\" target=\"_parent\"><img src=\"https://colab.research.google.com/assets/colab-badge.svg\" alt=\"Open In Colab\"/></a>"
      ]
    },
    {
      "cell_type": "code",
      "metadata": {
        "id": "buZ1P0JJPjTS",
        "colab_type": "code",
        "colab": {}
      },
      "source": [
        "import seaborn as sns\n",
        "import matplotlib.pyplot as plt"
      ],
      "execution_count": 0,
      "outputs": []
    },
    {
      "cell_type": "code",
      "metadata": {
        "id": "jchC13FkEOol",
        "colab_type": "code",
        "colab": {}
      },
      "source": [
        "from joblib import load\n",
        "new_featured_data=load('Train.joblib')\n"
      ],
      "execution_count": 0,
      "outputs": []
    },
    {
      "cell_type": "code",
      "metadata": {
        "id": "SYOGbTs5Ewl9",
        "colab_type": "code",
        "colab": {
          "base_uri": "https://localhost:8080/",
          "height": 224
        },
        "outputId": "b19be9fe-fa8a-4d3f-f6b7-642d2a588fce"
      },
      "source": [
        "new_featured_data.head()"
      ],
      "execution_count": 2,
      "outputs": [
        {
          "output_type": "execute_result",
          "data": {
            "text/html": [
              "<div>\n",
              "<style scoped>\n",
              "    .dataframe tbody tr th:only-of-type {\n",
              "        vertical-align: middle;\n",
              "    }\n",
              "\n",
              "    .dataframe tbody tr th {\n",
              "        vertical-align: top;\n",
              "    }\n",
              "\n",
              "    .dataframe thead th {\n",
              "        text-align: right;\n",
              "    }\n",
              "</style>\n",
              "<table border=\"1\" class=\"dataframe\">\n",
              "  <thead>\n",
              "    <tr style=\"text-align: right;\">\n",
              "      <th></th>\n",
              "      <th>customerid</th>\n",
              "      <th>Totalprofit</th>\n",
              "      <th>Avgprofit</th>\n",
              "      <th>Avgloanamount</th>\n",
              "      <th>Avgtermdays</th>\n",
              "      <th>Avgdaysleft</th>\n",
              "      <th>earlypayment</th>\n",
              "      <th>loannumber</th>\n",
              "      <th>loanamount</th>\n",
              "      <th>termdays</th>\n",
              "      <th>good_bad_flag</th>\n",
              "      <th>new_profit</th>\n",
              "      <th>loanamountdeviation</th>\n",
              "      <th>profitdeviation</th>\n",
              "      <th>termdaysdeviation</th>\n",
              "      <th>bank_account_type</th>\n",
              "      <th>longitude_gps</th>\n",
              "      <th>latitude_gps</th>\n",
              "      <th>employment_status_clients</th>\n",
              "      <th>Age</th>\n",
              "    </tr>\n",
              "  </thead>\n",
              "  <tbody>\n",
              "    <tr>\n",
              "      <th>0</th>\n",
              "      <td>8a1088a0484472eb01484669e3ce4e0b</td>\n",
              "      <td>1500.0</td>\n",
              "      <td>1500.000000</td>\n",
              "      <td>10000.000000</td>\n",
              "      <td>15.000000</td>\n",
              "      <td>-7.00</td>\n",
              "      <td>0.0</td>\n",
              "      <td>2</td>\n",
              "      <td>10000.0</td>\n",
              "      <td>15</td>\n",
              "      <td>0.0</td>\n",
              "      <td>1500.0</td>\n",
              "      <td>0.000000</td>\n",
              "      <td>0.000000</td>\n",
              "      <td>0.000000</td>\n",
              "      <td>Savings</td>\n",
              "      <td>3.351667</td>\n",
              "      <td>6.657019</td>\n",
              "      <td>Permanent</td>\n",
              "      <td>30</td>\n",
              "    </tr>\n",
              "    <tr>\n",
              "      <th>1</th>\n",
              "      <td>8a1a1e7e4f707f8b014f797718316cad</td>\n",
              "      <td>19500.0</td>\n",
              "      <td>4875.000000</td>\n",
              "      <td>17500.000000</td>\n",
              "      <td>37.500000</td>\n",
              "      <td>6.25</td>\n",
              "      <td>3.0</td>\n",
              "      <td>5</td>\n",
              "      <td>30000.0</td>\n",
              "      <td>60</td>\n",
              "      <td>1.0</td>\n",
              "      <td>9000.0</td>\n",
              "      <td>-12500.000000</td>\n",
              "      <td>-4125.000000</td>\n",
              "      <td>-22.500000</td>\n",
              "      <td>Other</td>\n",
              "      <td>3.395230</td>\n",
              "      <td>6.592191</td>\n",
              "      <td>Permanent</td>\n",
              "      <td>40</td>\n",
              "    </tr>\n",
              "    <tr>\n",
              "      <th>2</th>\n",
              "      <td>8a1a32fc49b632520149c3b8fdf85139</td>\n",
              "      <td>16500.0</td>\n",
              "      <td>2357.142857</td>\n",
              "      <td>12857.142857</td>\n",
              "      <td>19.285714</td>\n",
              "      <td>1.00</td>\n",
              "      <td>6.0</td>\n",
              "      <td>8</td>\n",
              "      <td>20000.0</td>\n",
              "      <td>30</td>\n",
              "      <td>1.0</td>\n",
              "      <td>4500.0</td>\n",
              "      <td>-7142.857143</td>\n",
              "      <td>-2142.857143</td>\n",
              "      <td>-10.714286</td>\n",
              "      <td>Savings</td>\n",
              "      <td>3.306388</td>\n",
              "      <td>6.651843</td>\n",
              "      <td>Permanent</td>\n",
              "      <td>40</td>\n",
              "    </tr>\n",
              "    <tr>\n",
              "      <th>3</th>\n",
              "      <td>8a1eb5ba49a682300149c3c068b806c7</td>\n",
              "      <td>32400.0</td>\n",
              "      <td>4050.000000</td>\n",
              "      <td>16250.000000</td>\n",
              "      <td>33.750000</td>\n",
              "      <td>5.25</td>\n",
              "      <td>8.0</td>\n",
              "      <td>9</td>\n",
              "      <td>30000.0</td>\n",
              "      <td>60</td>\n",
              "      <td>1.0</td>\n",
              "      <td>9000.0</td>\n",
              "      <td>-13750.000000</td>\n",
              "      <td>-4950.000000</td>\n",
              "      <td>-26.250000</td>\n",
              "      <td>Savings</td>\n",
              "      <td>3.426698</td>\n",
              "      <td>6.423048</td>\n",
              "      <td>Permanent</td>\n",
              "      <td>41</td>\n",
              "    </tr>\n",
              "    <tr>\n",
              "      <th>4</th>\n",
              "      <td>8a1edbf14734127f0147356fdb1b1eb2</td>\n",
              "      <td>4500.0</td>\n",
              "      <td>2250.000000</td>\n",
              "      <td>10000.000000</td>\n",
              "      <td>22.500000</td>\n",
              "      <td>4.50</td>\n",
              "      <td>2.0</td>\n",
              "      <td>3</td>\n",
              "      <td>10000.0</td>\n",
              "      <td>15</td>\n",
              "      <td>1.0</td>\n",
              "      <td>1500.0</td>\n",
              "      <td>0.000000</td>\n",
              "      <td>750.000000</td>\n",
              "      <td>7.500000</td>\n",
              "      <td>Savings</td>\n",
              "      <td>6.976132</td>\n",
              "      <td>4.801001</td>\n",
              "      <td>Permanent</td>\n",
              "      <td>41</td>\n",
              "    </tr>\n",
              "  </tbody>\n",
              "</table>\n",
              "</div>"
            ],
            "text/plain": [
              "                         customerid  Totalprofit  ...  employment_status_clients  Age\n",
              "0  8a1088a0484472eb01484669e3ce4e0b       1500.0  ...                  Permanent   30\n",
              "1  8a1a1e7e4f707f8b014f797718316cad      19500.0  ...                  Permanent   40\n",
              "2  8a1a32fc49b632520149c3b8fdf85139      16500.0  ...                  Permanent   40\n",
              "3  8a1eb5ba49a682300149c3c068b806c7      32400.0  ...                  Permanent   41\n",
              "4  8a1edbf14734127f0147356fdb1b1eb2       4500.0  ...                  Permanent   41\n",
              "\n",
              "[5 rows x 20 columns]"
            ]
          },
          "metadata": {
            "tags": []
          },
          "execution_count": 2
        }
      ]
    },
    {
      "cell_type": "code",
      "metadata": {
        "id": "wlocb_AdEyj9",
        "colab_type": "code",
        "colab": {}
      },
      "source": [
        "#  split the data and import accuracy measures\n",
        "from sklearn.model_selection import train_test_split\n",
        "from sklearn.metrics import accuracy_score\n",
        "from sklearn.metrics import mean_absolute_error\n",
        "from sklearn.metrics import classification_report\n",
        "from sklearn.metrics import recall_score\n",
        "from sklearn.metrics import confusion_matrix\n"
      ],
      "execution_count": 0,
      "outputs": []
    },
    {
      "cell_type": "code",
      "metadata": {
        "id": "poT4s4IVGMQ4",
        "colab_type": "code",
        "colab": {}
      },
      "source": [
        "# The Models\n",
        "from sklearn.tree import DecisionTreeRegressor\n",
        "from sklearn.ensemble import RandomForestClassifier\n",
        "from xgboost.sklearn import XGBClassifier\n",
        "from sklearn.naive_bayes import GaussianNB\n",
        "from sklearn.neighbors import KNeighborsClassifier\n"
      ],
      "execution_count": 0,
      "outputs": []
    },
    {
      "cell_type": "code",
      "metadata": {
        "id": "mZQGdEPOGkDJ",
        "colab_type": "code",
        "colab": {
          "base_uri": "https://localhost:8080/",
          "height": 224
        },
        "outputId": "638492cf-1e04-43ee-9918-eb76eb76a899"
      },
      "source": [
        "Xtraining_features = new_featured_data.drop([\"customerid\",\"good_bad_flag\",'bank_account_type','employment_status_clients'],axis=1)  #these will be my features\n",
        "\n",
        "y_label = new_featured_data[\"good_bad_flag\"]\n",
        "Xtraining_features.head()"
      ],
      "execution_count": 25,
      "outputs": [
        {
          "output_type": "execute_result",
          "data": {
            "text/html": [
              "<div>\n",
              "<style scoped>\n",
              "    .dataframe tbody tr th:only-of-type {\n",
              "        vertical-align: middle;\n",
              "    }\n",
              "\n",
              "    .dataframe tbody tr th {\n",
              "        vertical-align: top;\n",
              "    }\n",
              "\n",
              "    .dataframe thead th {\n",
              "        text-align: right;\n",
              "    }\n",
              "</style>\n",
              "<table border=\"1\" class=\"dataframe\">\n",
              "  <thead>\n",
              "    <tr style=\"text-align: right;\">\n",
              "      <th></th>\n",
              "      <th>Totalprofit</th>\n",
              "      <th>Avgprofit</th>\n",
              "      <th>Avgloanamount</th>\n",
              "      <th>Avgtermdays</th>\n",
              "      <th>Avgdaysleft</th>\n",
              "      <th>earlypayment</th>\n",
              "      <th>loannumber</th>\n",
              "      <th>loanamount</th>\n",
              "      <th>termdays</th>\n",
              "      <th>new_profit</th>\n",
              "      <th>loanamountdeviation</th>\n",
              "      <th>profitdeviation</th>\n",
              "      <th>termdaysdeviation</th>\n",
              "      <th>longitude_gps</th>\n",
              "      <th>latitude_gps</th>\n",
              "      <th>Age</th>\n",
              "    </tr>\n",
              "  </thead>\n",
              "  <tbody>\n",
              "    <tr>\n",
              "      <th>0</th>\n",
              "      <td>1500.0</td>\n",
              "      <td>1500.000000</td>\n",
              "      <td>10000.000000</td>\n",
              "      <td>15.000000</td>\n",
              "      <td>-7.00</td>\n",
              "      <td>0.0</td>\n",
              "      <td>2</td>\n",
              "      <td>10000.0</td>\n",
              "      <td>15</td>\n",
              "      <td>1500.0</td>\n",
              "      <td>0.000000</td>\n",
              "      <td>0.000000</td>\n",
              "      <td>0.000000</td>\n",
              "      <td>3.351667</td>\n",
              "      <td>6.657019</td>\n",
              "      <td>30</td>\n",
              "    </tr>\n",
              "    <tr>\n",
              "      <th>1</th>\n",
              "      <td>19500.0</td>\n",
              "      <td>4875.000000</td>\n",
              "      <td>17500.000000</td>\n",
              "      <td>37.500000</td>\n",
              "      <td>6.25</td>\n",
              "      <td>3.0</td>\n",
              "      <td>5</td>\n",
              "      <td>30000.0</td>\n",
              "      <td>60</td>\n",
              "      <td>9000.0</td>\n",
              "      <td>-12500.000000</td>\n",
              "      <td>-4125.000000</td>\n",
              "      <td>-22.500000</td>\n",
              "      <td>3.395230</td>\n",
              "      <td>6.592191</td>\n",
              "      <td>40</td>\n",
              "    </tr>\n",
              "    <tr>\n",
              "      <th>2</th>\n",
              "      <td>16500.0</td>\n",
              "      <td>2357.142857</td>\n",
              "      <td>12857.142857</td>\n",
              "      <td>19.285714</td>\n",
              "      <td>1.00</td>\n",
              "      <td>6.0</td>\n",
              "      <td>8</td>\n",
              "      <td>20000.0</td>\n",
              "      <td>30</td>\n",
              "      <td>4500.0</td>\n",
              "      <td>-7142.857143</td>\n",
              "      <td>-2142.857143</td>\n",
              "      <td>-10.714286</td>\n",
              "      <td>3.306388</td>\n",
              "      <td>6.651843</td>\n",
              "      <td>40</td>\n",
              "    </tr>\n",
              "    <tr>\n",
              "      <th>3</th>\n",
              "      <td>32400.0</td>\n",
              "      <td>4050.000000</td>\n",
              "      <td>16250.000000</td>\n",
              "      <td>33.750000</td>\n",
              "      <td>5.25</td>\n",
              "      <td>8.0</td>\n",
              "      <td>9</td>\n",
              "      <td>30000.0</td>\n",
              "      <td>60</td>\n",
              "      <td>9000.0</td>\n",
              "      <td>-13750.000000</td>\n",
              "      <td>-4950.000000</td>\n",
              "      <td>-26.250000</td>\n",
              "      <td>3.426698</td>\n",
              "      <td>6.423048</td>\n",
              "      <td>41</td>\n",
              "    </tr>\n",
              "    <tr>\n",
              "      <th>4</th>\n",
              "      <td>4500.0</td>\n",
              "      <td>2250.000000</td>\n",
              "      <td>10000.000000</td>\n",
              "      <td>22.500000</td>\n",
              "      <td>4.50</td>\n",
              "      <td>2.0</td>\n",
              "      <td>3</td>\n",
              "      <td>10000.0</td>\n",
              "      <td>15</td>\n",
              "      <td>1500.0</td>\n",
              "      <td>0.000000</td>\n",
              "      <td>750.000000</td>\n",
              "      <td>7.500000</td>\n",
              "      <td>6.976132</td>\n",
              "      <td>4.801001</td>\n",
              "      <td>41</td>\n",
              "    </tr>\n",
              "  </tbody>\n",
              "</table>\n",
              "</div>"
            ],
            "text/plain": [
              "   Totalprofit    Avgprofit  Avgloanamount  ...  longitude_gps  latitude_gps  Age\n",
              "0       1500.0  1500.000000   10000.000000  ...       3.351667      6.657019   30\n",
              "1      19500.0  4875.000000   17500.000000  ...       3.395230      6.592191   40\n",
              "2      16500.0  2357.142857   12857.142857  ...       3.306388      6.651843   40\n",
              "3      32400.0  4050.000000   16250.000000  ...       3.426698      6.423048   41\n",
              "4       4500.0  2250.000000   10000.000000  ...       6.976132      4.801001   41\n",
              "\n",
              "[5 rows x 16 columns]"
            ]
          },
          "metadata": {
            "tags": []
          },
          "execution_count": 25
        }
      ]
    },
    {
      "cell_type": "code",
      "metadata": {
        "id": "rVZAGR3AHQm-",
        "colab_type": "code",
        "colab": {}
      },
      "source": [
        "#split the training and test data\n",
        "X_train, X_test, y_train, y_test = train_test_split(Xtraining_features, y_label,stratify=y_label,test_size=0.2, random_state=0)"
      ],
      "execution_count": 0,
      "outputs": []
    },
    {
      "cell_type": "code",
      "metadata": {
        "id": "LEJ6YBe7JNqD",
        "colab_type": "code",
        "colab": {
          "base_uri": "https://localhost:8080/",
          "height": 34
        },
        "outputId": "5f4ada6c-f775-4d8a-8a59-1d267f1f3af8"
      },
      "source": [
        "X_train.shape, X_test.shape"
      ],
      "execution_count": 27,
      "outputs": [
        {
          "output_type": "execute_result",
          "data": {
            "text/plain": [
              "((4654, 16), (1164, 16))"
            ]
          },
          "metadata": {
            "tags": []
          },
          "execution_count": 27
        }
      ]
    },
    {
      "cell_type": "code",
      "metadata": {
        "id": "iYTlqCJ2N0Ob",
        "colab_type": "code",
        "colab": {}
      },
      "source": [
        "def get_model(model,train_X,train_y,test_X,test_y):\n",
        "    \"\"\"\n",
        "    gets a model, for example a RandomForest or a XGBoost etc\n",
        "    performs training\n",
        "    measures accuracy \n",
        "    shows the confusion matrix\n",
        "    \"\"\"\n",
        "    \n",
        "    model.fit(train_X,train_y)\n",
        "    predictions = model.predict(test_X)\n",
        "    print(model)\n",
        "    \n",
        "    print(\"Accuracy score : \", accuracy_score(predictions,test_y))\n",
        "    print(\"mae score : \", mean_absolute_error(predictions,test_y))\n",
        "    print(\"Recall score   : \", recall_score(predictions,test_y))\n",
        "    print(\"classification report :\\n\",classification_report(predictions,test_y))\n",
        "    \n",
        "    \n",
        "    # this the confusion matrix\n",
        "    confusion = confusion_matrix(test_y, predictions)\n",
        "    sns.heatmap(confusion, square=True, annot=True, cbar=False)\n",
        "    plt.xlabel('predicted value')\n",
        "    plt.ylabel('true value');\n",
        "    return None"
      ],
      "execution_count": 0,
      "outputs": []
    },
    {
      "cell_type": "code",
      "metadata": {
        "id": "9Vsso9_PNlzg",
        "colab_type": "code",
        "colab": {
          "base_uri": "https://localhost:8080/",
          "height": 623
        },
        "outputId": "9ba6861e-5286-4417-f499-d5fbc05d21e4"
      },
      "source": [
        "# XGb boost\n",
        "xgb = XGBClassifier(n_estimators=1000, learning_rate=0.05,random_state=1,n_jobs=1)\n",
        "get_model(xgb, X_train, y_train, X_test, y_test)"
      ],
      "execution_count": 38,
      "outputs": [
        {
          "output_type": "stream",
          "text": [
            "XGBClassifier(base_score=0.5, booster='gbtree', colsample_bylevel=1,\n",
            "              colsample_bynode=1, colsample_bytree=1, gamma=0,\n",
            "              learning_rate=0.05, max_delta_step=0, max_depth=3,\n",
            "              min_child_weight=1, missing=None, n_estimators=1000, n_jobs=1,\n",
            "              nthread=None, objective='binary:logistic', random_state=1,\n",
            "              reg_alpha=0, reg_lambda=1, scale_pos_weight=1, seed=None,\n",
            "              silent=None, subsample=1, verbosity=1)\n",
            "Accuracy score :  0.6048109965635738\n",
            "mae score :  0.3951890034364261\n",
            "Recall score   :  0.6286043829296425\n",
            "classification report :\n",
            "               precision    recall  f1-score   support\n",
            "\n",
            "         0.0       0.33      0.54      0.41       297\n",
            "         1.0       0.80      0.63      0.70       867\n",
            "\n",
            "    accuracy                           0.60      1164\n",
            "   macro avg       0.56      0.58      0.56      1164\n",
            "weighted avg       0.68      0.60      0.63      1164\n",
            "\n"
          ],
          "name": "stdout"
        },
        {
          "output_type": "display_data",
          "data": {
            "image/png": "[encoded data removed]",
            "text/plain": [
              "<Figure size 432x288 with 1 Axes>"
            ]
          },
          "metadata": {
            "tags": []
          }
        }
      ]
    },
    {
      "cell_type": "code",
      "metadata": {
        "id": "Ak7Nz3nLK-ru",
        "colab_type": "code",
        "colab": {}
      },
      "source": [
        "# The Models\n",
        "from sklearn.tree import DecisionTreeRegressor\n",
        "from sklearn.ensemble import RandomForestClassifier\n",
        "from xgboost.sklearn import XGBClassifier\n",
        "from sklearn.naive_bayes import GaussianNB\n",
        "from sklearn.neighbors import KNeighborsClassifier\n",
        "\n",
        "clf_A = DecisionTreeRegressor()\n",
        "clf_B = RandomForestClassifier()\n",
        "clf_C = XGBClassifier()\n",
        "clf_D = GaussianNB()\n",
        "clf_E = KNeighborsClassifier()\n",
        "\n",
        "training_length = len(X_train)\n",
        "samples_1 = int(training_length * 0.01)\n",
        "samples_10 = int(training_length * 0.1)\n",
        "samples_100 = int(training_length * 1)\n",
        "\n",
        "results = {}\n",
        "for clf in [clf_A, clf_B, clf_C,clf_D, clf_E]:\n",
        "    clf_name = clf.__class__.__name__\n",
        "    results[clf_name] = {}\n",
        "    for i, samples in enumerate([samples_1, samples_10, samples_100]):\n",
        "        results[clf_name][i] = \\\n",
        "        (clf, samples, X_train, y_train, X_test, y_test)"
      ],
      "execution_count": 0,
      "outputs": []
    },
    {
      "cell_type": "code",
      "metadata": {
        "id": "my43-wZbNJ2K",
        "colab_type": "code",
        "colab": {
          "base_uri": "https://localhost:8080/",
          "height": 190
        },
        "outputId": "33583c0d-cbc0-4d53-d739-51d78ac373c5"
      },
      "source": [
        "from sklearn.ensemble import RandomForestClassifier\n",
        "clf = RandomForestClassifier()\n",
        "clf.fit(X_train, y_train)"
      ],
      "execution_count": 30,
      "outputs": [
        {
          "output_type": "stream",
          "text": [
            "/usr/local/lib/python3.6/dist-packages/sklearn/ensemble/forest.py:245: FutureWarning: The default value of n_estimators will change from 10 in version 0.20 to 100 in 0.22.\n",
            "  \"10 in version 0.20 to 100 in 0.22.\", FutureWarning)\n"
          ],
          "name": "stderr"
        },
        {
          "output_type": "execute_result",
          "data": {
            "text/plain": [
              "RandomForestClassifier(bootstrap=True, class_weight=None, criterion='gini',\n",
              "                       max_depth=None, max_features='auto', max_leaf_nodes=None,\n",
              "                       min_impurity_decrease=0.0, min_impurity_split=None,\n",
              "                       min_samples_leaf=1, min_samples_split=2,\n",
              "                       min_weight_fraction_leaf=0.0, n_estimators=10,\n",
              "                       n_jobs=None, oob_score=False, random_state=None,\n",
              "                       verbose=0, warm_start=False)"
            ]
          },
          "metadata": {
            "tags": []
          },
          "execution_count": 30
        }
      ]
    },
    {
      "cell_type": "code",
      "metadata": {
        "id": "kqq8Xfx4QeCx",
        "colab_type": "code",
        "colab": {
          "base_uri": "https://localhost:8080/",
          "height": 643
        },
        "outputId": "a4fc63c9-a53a-43d3-f3e4-17941c3e83dd"
      },
      "source": [
        "from sklearn.linear_model import LogisticRegression\n",
        "log = LogisticRegression()\n",
        "\n",
        "get_model(log, X_train, y_train, X_test, y_test)"
      ],
      "execution_count": 39,
      "outputs": [
        {
          "output_type": "stream",
          "text": [
            "/usr/local/lib/python3.6/dist-packages/sklearn/linear_model/logistic.py:432: FutureWarning: Default solver will be changed to 'lbfgs' in 0.22. Specify a solver to silence this warning.\n",
            "  FutureWarning)\n"
          ],
          "name": "stderr"
        },
        {
          "output_type": "stream",
          "text": [
            "LogisticRegression(C=1.0, class_weight=None, dual=False, fit_intercept=True,\n",
            "                   intercept_scaling=1, l1_ratio=None, max_iter=100,\n",
            "                   multi_class='warn', n_jobs=None, penalty='l2',\n",
            "                   random_state=None, solver='warn', tol=0.0001, verbose=0,\n",
            "                   warm_start=False)\n",
            "Accuracy score :  0.6314432989690721\n",
            "mae score :  0.36855670103092786\n",
            "Recall score   :  0.6245098039215686\n",
            "classification report :\n",
            "               precision    recall  f1-score   support\n",
            "\n",
            "         0.0       0.20      0.68      0.31       144\n",
            "         1.0       0.93      0.62      0.75      1020\n",
            "\n",
            "    accuracy                           0.63      1164\n",
            "   macro avg       0.57      0.65      0.53      1164\n",
            "weighted avg       0.84      0.63      0.69      1164\n",
            "\n"
          ],
          "name": "stdout"
        },
        {
          "output_type": "display_data",
          "data": {
            "image/png": "[encoded data removed]",
            "text/plain": [
              "<Figure size 432x288 with 1 Axes>"
            ]
          },
          "metadata": {
            "tags": []
          }
        }
      ]
    }
  ]
}
